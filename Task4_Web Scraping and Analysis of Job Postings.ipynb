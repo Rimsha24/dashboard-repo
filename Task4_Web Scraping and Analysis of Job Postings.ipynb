{
 "cells": [
  {
   "cell_type": "code",
   "execution_count": 1,
   "id": "9f4e101b",
   "metadata": {},
   "outputs": [
    {
     "name": "stdout",
     "output_type": "stream",
     "text": [
      "Requirement already satisfied: requests in c:\\users\\manzar\\appdata\\local\\programs\\python\\python311\\lib\\site-packages (2.32.3)\n",
      "Collecting beautifulsoup4\n",
      "  Downloading beautifulsoup4-4.13.4-py3-none-any.whl (187 kB)\n",
      "     -------------------------------------- 187.3/187.3 kB 1.6 MB/s eta 0:00:00\n",
      "Requirement already satisfied: pandas in c:\\users\\manzar\\appdata\\local\\programs\\python\\python311\\lib\\site-packages (2.2.2)\n",
      "Requirement already satisfied: matplotlib in c:\\users\\manzar\\appdata\\local\\programs\\python\\python311\\lib\\site-packages (3.9.0)\n",
      "Requirement already satisfied: seaborn in c:\\users\\manzar\\appdata\\local\\programs\\python\\python311\\lib\\site-packages (0.13.2)\n",
      "Requirement already satisfied: wordcloud in c:\\users\\manzar\\appdata\\local\\programs\\python\\python311\\lib\\site-packages (1.9.4)\n",
      "Requirement already satisfied: charset-normalizer<4,>=2 in c:\\users\\manzar\\appdata\\local\\programs\\python\\python311\\lib\\site-packages (from requests) (3.4.1)\n",
      "Requirement already satisfied: idna<4,>=2.5 in c:\\users\\manzar\\appdata\\local\\programs\\python\\python311\\lib\\site-packages (from requests) (3.10)\n",
      "Requirement already satisfied: urllib3<3,>=1.21.1 in c:\\users\\manzar\\appdata\\roaming\\python\\python311\\site-packages (from requests) (2.2.3)\n",
      "Requirement already satisfied: certifi>=2017.4.17 in c:\\users\\manzar\\appdata\\local\\programs\\python\\python311\\lib\\site-packages (from requests) (2024.12.14)\n",
      "Requirement already satisfied: soupsieve>1.2 in c:\\users\\manzar\\appdata\\roaming\\python\\python311\\site-packages (from beautifulsoup4) (2.6)\n",
      "Requirement already satisfied: typing-extensions>=4.0.0 in c:\\users\\manzar\\appdata\\roaming\\python\\python311\\site-packages (from beautifulsoup4) (4.12.1)\n",
      "Requirement already satisfied: numpy>=1.23.2 in c:\\users\\manzar\\appdata\\local\\programs\\python\\python311\\lib\\site-packages (from pandas) (1.26.4)\n",
      "Requirement already satisfied: python-dateutil>=2.8.2 in c:\\users\\manzar\\appdata\\local\\programs\\python\\python311\\lib\\site-packages (from pandas) (2.9.0.post0)\n",
      "Requirement already satisfied: pytz>=2020.1 in c:\\users\\manzar\\appdata\\local\\programs\\python\\python311\\lib\\site-packages (from pandas) (2024.1)\n",
      "Requirement already satisfied: tzdata>=2022.7 in c:\\users\\manzar\\appdata\\local\\programs\\python\\python311\\lib\\site-packages (from pandas) (2024.1)\n",
      "Requirement already satisfied: contourpy>=1.0.1 in c:\\users\\manzar\\appdata\\local\\programs\\python\\python311\\lib\\site-packages (from matplotlib) (1.2.1)\n",
      "Requirement already satisfied: cycler>=0.10 in c:\\users\\manzar\\appdata\\local\\programs\\python\\python311\\lib\\site-packages (from matplotlib) (0.12.1)\n",
      "Requirement already satisfied: fonttools>=4.22.0 in c:\\users\\manzar\\appdata\\local\\programs\\python\\python311\\lib\\site-packages (from matplotlib) (4.53.0)\n",
      "Requirement already satisfied: kiwisolver>=1.3.1 in c:\\users\\manzar\\appdata\\local\\programs\\python\\python311\\lib\\site-packages (from matplotlib) (1.4.5)\n",
      "Requirement already satisfied: packaging>=20.0 in c:\\users\\manzar\\appdata\\local\\programs\\python\\python311\\lib\\site-packages (from matplotlib) (24.0)\n",
      "Requirement already satisfied: pillow>=8 in c:\\users\\manzar\\appdata\\local\\programs\\python\\python311\\lib\\site-packages (from matplotlib) (10.3.0)\n",
      "Requirement already satisfied: pyparsing>=2.3.1 in c:\\users\\manzar\\appdata\\local\\programs\\python\\python311\\lib\\site-packages (from matplotlib) (3.1.2)\n",
      "Requirement already satisfied: six>=1.5 in c:\\users\\manzar\\appdata\\local\\programs\\python\\python311\\lib\\site-packages (from python-dateutil>=2.8.2->pandas) (1.16.0)\n",
      "Installing collected packages: beautifulsoup4\n",
      "Successfully installed beautifulsoup4-4.13.4\n",
      "Note: you may need to restart the kernel to use updated packages.\n"
     ]
    },
    {
     "name": "stderr",
     "output_type": "stream",
     "text": [
      "\n",
      "[notice] A new release of pip available: 22.3 -> 25.2\n",
      "[notice] To update, run: python.exe -m pip install --upgrade pip\n"
     ]
    }
   ],
   "source": [
    "pip install requests beautifulsoup4 pandas matplotlib seaborn wordcloud\n"
   ]
  },
  {
   "cell_type": "markdown",
   "id": "ab324556",
   "metadata": {},
   "source": [
    "🌐 Step 2: Scrape Job Listings (Static HTML Example from RemoteOK)"
   ]
  },
  {
   "cell_type": "code",
   "execution_count": 2,
   "id": "ddea908a",
   "metadata": {},
   "outputs": [
    {
     "name": "stdout",
     "output_type": "stream",
     "text": [
      "                              Job Title            Company  \\\n",
      "0        Senior Python Backend Engineer            Orga AI   \n",
      "1                      Svelte Developer  Green Stuff World   \n",
      "2           Principal Software Engineer             CEF.Ai   \n",
      "3  WordPress Plugins & Themes developer          Melapress   \n",
      "4                     Software engineer       Sticker Mule   \n",
      "\n",
      "                                              Skills  \\\n",
      "0  [\\n\\n\\t\\t\\t\\t\\t\\t\\t\\t\\t\\t\\t\\tPython\\t\\t\\t\\t\\t\\...   \n",
      "1  [\\n\\n\\t\\t\\t\\t\\t\\t\\t\\t\\t\\t\\t\\tJavaScript\\t\\t\\t\\...   \n",
      "2  [\\n\\n\\t\\t\\t\\t\\t\\t\\t\\t\\t\\t\\t\\tOther\\t\\t\\t\\t\\t\\t...   \n",
      "3  [\\n\\n\\t\\t\\t\\t\\t\\t\\t\\t\\t\\t\\t\\tDevOps\\t\\t\\t\\t\\t\\...   \n",
      "4  [\\n\\n\\t\\t\\t\\t\\t\\t\\t\\t\\t\\t\\t\\tEngineer\\t\\t\\t\\t\\...   \n",
      "\n",
      "                      Posted  \n",
      "0  2025-07-26T00:00:07+00:00  \n",
      "1  2025-08-02T00:00:03+00:00  \n",
      "2  2025-07-29T13:16:27+00:00  \n",
      "3  2025-07-22T09:40:58+00:00  \n",
      "4  2025-07-28T09:46:06+00:00  \n"
     ]
    }
   ],
   "source": [
    "import requests\n",
    "from bs4 import BeautifulSoup\n",
    "import pandas as pd\n",
    "\n",
    "url = \"https://remoteok.io/remote-dev-jobs\"\n",
    "headers = {'User-Agent': 'Mozilla/5.0'}\n",
    "response = requests.get(url, headers=headers)\n",
    "soup = BeautifulSoup(response.text, \"html.parser\")\n",
    "\n",
    "job_posts = soup.find_all('tr', class_='job')\n",
    "\n",
    "data = []\n",
    "for job in job_posts:\n",
    "    title = job.find('h2')  # job title\n",
    "    company = job.find('h3')  # company name\n",
    "    tags = job.find_all('div', class_='tag')  # skills/technologies\n",
    "    date = job.find('time')  # posted time\n",
    "\n",
    "    if title and company:\n",
    "        data.append({\n",
    "            'Job Title': title.text.strip(),\n",
    "            'Company': company.text.strip(),\n",
    "            'Skills': [tag.text for tag in tags],\n",
    "            'Posted': date['datetime'] if date else 'Unknown'\n",
    "        })\n",
    "\n",
    "df = pd.DataFrame(data)\n",
    "print(df.head())\n"
   ]
  },
  {
   "cell_type": "markdown",
   "id": "ded2b33a",
   "metadata": {},
   "source": [
    "🧹 Step 3: Clean Data"
   ]
  },
  {
   "cell_type": "code",
   "execution_count": 3,
   "id": "a77ed180",
   "metadata": {},
   "outputs": [],
   "source": [
    "# Join skills into one string\n",
    "df['Skills_str'] = df['Skills'].apply(lambda x: ', '.join(x) if isinstance(x, list) else x)\n",
    "\n",
    "# Convert date\n",
    "df['Posted'] = pd.to_datetime(df['Posted'], errors='coerce')\n"
   ]
  },
  {
   "cell_type": "markdown",
   "id": "d106c0db",
   "metadata": {},
   "source": [
    "📊 Step 4: Skill Frequency Analysis"
   ]
  },
  {
   "cell_type": "code",
   "execution_count": 4,
   "id": "a1820a99",
   "metadata": {},
   "outputs": [
    {
     "name": "stderr",
     "output_type": "stream",
     "text": [
      "C:\\Users\\Manzar\\AppData\\Local\\Temp\\ipykernel_12368\\3502295933.py:14: FutureWarning: \n",
      "\n",
      "Passing `palette` without assigning `hue` is deprecated and will be removed in v0.14.0. Assign the `y` variable to `hue` and set `legend=False` for the same effect.\n",
      "\n",
      "  sns.barplot(x='Count', y='Skill', data=skills_df, palette='viridis')\n",
      "C:\\Users\\Manzar\\AppData\\Roaming\\Python\\Python311\\site-packages\\IPython\\core\\pylabtools.py:170: UserWarning: Glyph 9 (\t) missing from font(s) DejaVu Sans.\n",
      "  fig.canvas.print_figure(bytes_io, **kw)\n"
     ]
    },
    {
     "data": {
      "image/png": "[encoded data removed]",
      "text/plain": [
       "<Figure size 640x480 with 1 Axes>"
      ]
     },
     "metadata": {},
     "output_type": "display_data"
    }
   ],
   "source": [
    "from collections import Counter\n",
    "import matplotlib.pyplot as plt\n",
    "import seaborn as sns\n",
    "\n",
    "# Flatten all skills into a single list\n",
    "all_skills = sum(df['Skills'], [])\n",
    "skill_counts = Counter(all_skills)\n",
    "top_skills = skill_counts.most_common(10)\n",
    "\n",
    "# Convert to DataFrame for plotting\n",
    "skills_df = pd.DataFrame(top_skills, columns=['Skill', 'Count'])\n",
    "\n",
    "# Bar Plot\n",
    "sns.barplot(x='Count', y='Skill', data=skills_df, palette='viridis')\n",
    "plt.title('Top 10 Most In-Demand Skills')\n",
    "plt.xlabel('Number of Mentions')\n",
    "plt.ylabel('Skill')\n",
    "plt.show()\n"
   ]
  },
  {
   "cell_type": "markdown",
   "id": "9f622421",
   "metadata": {},
   "source": [
    "📌 Bonus: Skills by City (Heatmap/Group Count)"
   ]
  },
  {
   "cell_type": "code",
   "execution_count": 7,
   "id": "db626e9e",
   "metadata": {},
   "outputs": [],
   "source": [
    "# Example addition to your BeautifulSoup scraping loop\n",
    "location = job.find('div', class_='location')  # adjust based on site HTML\n",
    "\n",
    "data.append({\n",
    "    'Job Title': title.text.strip(),\n",
    "    'Company': company.text.strip(),\n",
    "    'Skills': [tag.text for tag in tags],\n",
    "    'Posted': date['datetime'] if date else 'Unknown',\n",
    "    'Location': location.text.strip() if location else 'Remote'  # <== added\n",
    "})\n"
   ]
  },
  {
   "cell_type": "markdown",
   "id": "5ff1818a",
   "metadata": {},
   "source": [
    "🚀 If Website Uses JavaScript (Use Selenium Instead)"
   ]
  },
  {
   "cell_type": "code",
   "execution_count": 10,
   "id": "c2cd8767",
   "metadata": {},
   "outputs": [],
   "source": [
    "from selenium import webdriver\n",
    "from bs4 import BeautifulSoup\n",
    "\n",
    "driver = webdriver.Chrome()\n",
    "driver.get(\"https://www.indeed.com/jobs?q=python+developer\")\n",
    "\n",
    "html = driver.page_source\n",
    "soup = BeautifulSoup(html, 'html.parser')\n",
    "\n",
    "# Same parsing logic...\n",
    "driver.quit()\n"
   ]
  },
  {
   "cell_type": "code",
   "execution_count": 11,
   "id": "f76cec05",
   "metadata": {},
   "outputs": [],
   "source": [
    "import os\n",
    "import site\n",
    "import datetime\n",
    "import subprocess\n",
    "\n",
    "# Get current year\n",
    "current_year = datetime.datetime.now().year\n",
    "\n",
    "# Get site-packages path\n",
    "site_packages = site.getsitepackages()[0]\n",
    "\n",
    "# Track unused libraries\n",
    "unused_libs = []\n",
    "\n",
    "# Loop through .dist-info folders\n",
    "for item in os.listdir(site_packages):\n",
    "    if item.endswith('.dist-info'):\n",
    "        full_path = os.path.join(site_packages, item)\n",
    "        lib_name = item.split('-')[0]\n",
    "\n",
    "        # Get last accessed time\n",
    "        last_access = datetime.datetime.fromtimestamp(os.path.getatime(full_path))\n",
    "        if last_access.year < current_year:\n",
    "            unused_libs.append(lib_name)\n",
    "\n",
    "# Save unused libs to file\n",
    "with open('unused_libraries.txt', 'w') as f:\n",
    "    for lib in unused_libs:\n",
    "        f.write(lib + '\\n')\n",
    "\n",
    "# Uninstall unused libraries\n",
    "for lib in unused_libs:\n",
    "    try:\n",
    "        subprocess.run(['pip', 'uninstall', '-y', lib], check=True)\n",
    "        print(f\"Uninstalled: {lib}\")\n",
    "    except subprocess.CalledProcessError:\n",
    "        print(f\"Failed to uninstall: {lib}\")\n",
    "\n"
   ]
  },
  {
   "cell_type": "code",
   "execution_count": 12,
   "id": "7ca38f7b",
   "metadata": {},
   "outputs": [
    {
     "name": "stdout",
     "output_type": "stream",
     "text": [
      "Collecting pipreqs\n",
      "  Downloading pipreqs-0.5.0-py3-none-any.whl (33 kB)\n",
      "Collecting docopt==0.6.2\n",
      "  Downloading docopt-0.6.2.tar.gz (25 kB)\n",
      "  Preparing metadata (setup.py): started\n",
      "  Preparing metadata (setup.py): finished with status 'done'\n",
      "Collecting ipython==8.12.3\n",
      "  Downloading ipython-8.12.3-py3-none-any.whl (798 kB)\n",
      "     -------------------------------------- 798.3/798.3 kB 2.0 MB/s eta 0:00:00\n",
      "Collecting nbconvert<8.0.0,>=7.11.0\n",
      "  Downloading nbconvert-7.16.6-py3-none-any.whl (258 kB)\n",
      "     ------------------------------------ 258.5/258.5 kB 993.1 kB/s eta 0:00:00\n",
      "Collecting yarg==0.1.9\n",
      "  Downloading yarg-0.1.9-py2.py3-none-any.whl (19 kB)\n",
      "Collecting backcall\n",
      "  Using cached backcall-0.2.0-py2.py3-none-any.whl (11 kB)\n",
      "Requirement already satisfied: decorator in c:\\users\\manzar\\appdata\\roaming\\python\\python311\\site-packages (from ipython==8.12.3->pipreqs) (5.1.1)\n",
      "Requirement already satisfied: jedi>=0.16 in c:\\users\\manzar\\appdata\\roaming\\python\\python311\\site-packages (from ipython==8.12.3->pipreqs) (0.19.1)\n",
      "Requirement already satisfied: matplotlib-inline in c:\\users\\manzar\\appdata\\roaming\\python\\python311\\site-packages (from ipython==8.12.3->pipreqs) (0.1.7)\n",
      "Collecting pickleshare\n",
      "  Using cached pickleshare-0.7.5-py2.py3-none-any.whl (6.9 kB)\n",
      "Requirement already satisfied: prompt-toolkit!=3.0.37,<3.1.0,>=3.0.30 in c:\\users\\manzar\\appdata\\roaming\\python\\python311\\site-packages (from ipython==8.12.3->pipreqs) (3.0.45)\n",
      "Requirement already satisfied: pygments>=2.4.0 in c:\\users\\manzar\\appdata\\roaming\\python\\python311\\site-packages (from ipython==8.12.3->pipreqs) (2.18.0)\n",
      "Requirement already satisfied: stack-data in c:\\users\\manzar\\appdata\\roaming\\python\\python311\\site-packages (from ipython==8.12.3->pipreqs) (0.6.3)\n",
      "Requirement already satisfied: traitlets>=5 in c:\\users\\manzar\\appdata\\roaming\\python\\python311\\site-packages (from ipython==8.12.3->pipreqs) (5.14.3)\n",
      "Requirement already satisfied: colorama in c:\\users\\manzar\\appdata\\roaming\\python\\python311\\site-packages (from ipython==8.12.3->pipreqs) (0.4.6)\n",
      "Requirement already satisfied: requests in c:\\users\\manzar\\appdata\\local\\programs\\python\\python311\\lib\\site-packages (from yarg==0.1.9->pipreqs) (2.32.3)\n",
      "Requirement already satisfied: beautifulsoup4 in c:\\users\\manzar\\appdata\\local\\programs\\python\\python311\\lib\\site-packages (from nbconvert<8.0.0,>=7.11.0->pipreqs) (4.13.4)\n",
      "Collecting bleach[css]!=5.0.0\n",
      "  Downloading bleach-6.2.0-py3-none-any.whl (163 kB)\n",
      "     -------------------------------------- 163.4/163.4 kB 1.2 MB/s eta 0:00:00\n",
      "Collecting defusedxml\n",
      "  Using cached defusedxml-0.7.1-py2.py3-none-any.whl (25 kB)\n",
      "Requirement already satisfied: jinja2>=3.0 in c:\\users\\manzar\\appdata\\local\\programs\\python\\python311\\lib\\site-packages (from nbconvert<8.0.0,>=7.11.0->pipreqs) (3.1.4)\n",
      "Requirement already satisfied: jupyter-core>=4.7 in c:\\users\\manzar\\appdata\\roaming\\python\\python311\\site-packages (from nbconvert<8.0.0,>=7.11.0->pipreqs) (5.7.2)\n",
      "Collecting jupyterlab-pygments\n",
      "  Using cached jupyterlab_pygments-0.3.0-py3-none-any.whl (15 kB)\n",
      "Requirement already satisfied: markupsafe>=2.0 in c:\\users\\manzar\\appdata\\local\\programs\\python\\python311\\lib\\site-packages (from nbconvert<8.0.0,>=7.11.0->pipreqs) (3.0.2)\n",
      "Collecting mistune<4,>=2.0.3\n",
      "  Downloading mistune-3.1.3-py3-none-any.whl (53 kB)\n",
      "     -------------------------------------- 53.4/53.4 kB 696.3 kB/s eta 0:00:00\n",
      "Collecting nbclient>=0.5.0\n",
      "  Downloading nbclient-0.10.2-py3-none-any.whl (25 kB)\n",
      "Requirement already satisfied: nbformat>=5.7 in c:\\users\\manzar\\appdata\\local\\programs\\python\\python311\\lib\\site-packages (from nbconvert<8.0.0,>=7.11.0->pipreqs) (5.10.4)\n",
      "Requirement already satisfied: packaging in c:\\users\\manzar\\appdata\\local\\programs\\python\\python311\\lib\\site-packages (from nbconvert<8.0.0,>=7.11.0->pipreqs) (24.0)\n",
      "Collecting pandocfilters>=1.4.1\n",
      "  Using cached pandocfilters-1.5.1-py2.py3-none-any.whl (8.7 kB)\n",
      "Requirement already satisfied: webencodings in c:\\users\\manzar\\appdata\\roaming\\python\\python311\\site-packages (from bleach[css]!=5.0.0->nbconvert<8.0.0,>=7.11.0->pipreqs) (0.5.1)\n",
      "Requirement already satisfied: tinycss2<1.5,>=1.1.0 in c:\\users\\manzar\\appdata\\roaming\\python\\python311\\site-packages (from bleach[css]!=5.0.0->nbconvert<8.0.0,>=7.11.0->pipreqs) (1.3.0)\n",
      "Requirement already satisfied: parso<0.9.0,>=0.8.3 in c:\\users\\manzar\\appdata\\roaming\\python\\python311\\site-packages (from jedi>=0.16->ipython==8.12.3->pipreqs) (0.8.4)\n",
      "Requirement already satisfied: platformdirs>=2.5 in c:\\users\\manzar\\appdata\\roaming\\python\\python311\\site-packages (from jupyter-core>=4.7->nbconvert<8.0.0,>=7.11.0->pipreqs) (4.2.2)\n",
      "Requirement already satisfied: pywin32>=300 in c:\\users\\manzar\\appdata\\roaming\\python\\python311\\site-packages (from jupyter-core>=4.7->nbconvert<8.0.0,>=7.11.0->pipreqs) (306)\n",
      "Requirement already satisfied: jupyter-client>=6.1.12 in c:\\users\\manzar\\appdata\\roaming\\python\\python311\\site-packages (from nbclient>=0.5.0->nbconvert<8.0.0,>=7.11.0->pipreqs) (8.6.2)\n",
      "Requirement already satisfied: fastjsonschema>=2.15 in c:\\users\\manzar\\appdata\\roaming\\python\\python311\\site-packages (from nbformat>=5.7->nbconvert<8.0.0,>=7.11.0->pipreqs) (2.20.0)\n",
      "Requirement already satisfied: jsonschema>=2.6 in c:\\users\\manzar\\appdata\\local\\programs\\python\\python311\\lib\\site-packages (from nbformat>=5.7->nbconvert<8.0.0,>=7.11.0->pipreqs) (4.23.0)\n",
      "Requirement already satisfied: wcwidth in c:\\users\\manzar\\appdata\\roaming\\python\\python311\\site-packages (from prompt-toolkit!=3.0.37,<3.1.0,>=3.0.30->ipython==8.12.3->pipreqs) (0.2.13)\n",
      "Requirement already satisfied: soupsieve>1.2 in c:\\users\\manzar\\appdata\\roaming\\python\\python311\\site-packages (from beautifulsoup4->nbconvert<8.0.0,>=7.11.0->pipreqs) (2.6)\n",
      "Requirement already satisfied: typing-extensions>=4.0.0 in c:\\users\\manzar\\appdata\\local\\programs\\python\\python311\\lib\\site-packages (from beautifulsoup4->nbconvert<8.0.0,>=7.11.0->pipreqs) (4.14.1)\n",
      "Requirement already satisfied: charset-normalizer<4,>=2 in c:\\users\\manzar\\appdata\\local\\programs\\python\\python311\\lib\\site-packages (from requests->yarg==0.1.9->pipreqs) (3.4.1)\n",
      "Requirement already satisfied: idna<4,>=2.5 in c:\\users\\manzar\\appdata\\local\\programs\\python\\python311\\lib\\site-packages (from requests->yarg==0.1.9->pipreqs) (3.10)\n",
      "Requirement already satisfied: urllib3<3,>=1.21.1 in c:\\users\\manzar\\appdata\\local\\programs\\python\\python311\\lib\\site-packages (from requests->yarg==0.1.9->pipreqs) (2.5.0)\n",
      "Requirement already satisfied: certifi>=2017.4.17 in c:\\users\\manzar\\appdata\\local\\programs\\python\\python311\\lib\\site-packages (from requests->yarg==0.1.9->pipreqs) (2025.8.3)\n",
      "Requirement already satisfied: executing>=1.2.0 in c:\\users\\manzar\\appdata\\roaming\\python\\python311\\site-packages (from stack-data->ipython==8.12.3->pipreqs) (2.0.1)\n",
      "Requirement already satisfied: asttokens>=2.1.0 in c:\\users\\manzar\\appdata\\roaming\\python\\python311\\site-packages (from stack-data->ipython==8.12.3->pipreqs) (2.4.1)\n",
      "Requirement already satisfied: pure-eval in c:\\users\\manzar\\appdata\\roaming\\python\\python311\\site-packages (from stack-data->ipython==8.12.3->pipreqs) (0.2.2)\n",
      "Requirement already satisfied: six>=1.12.0 in c:\\users\\manzar\\appdata\\local\\programs\\python\\python311\\lib\\site-packages (from asttokens>=2.1.0->stack-data->ipython==8.12.3->pipreqs) (1.16.0)\n",
      "Requirement already satisfied: attrs>=22.2.0 in c:\\users\\manzar\\appdata\\local\\programs\\python\\python311\\lib\\site-packages (from jsonschema>=2.6->nbformat>=5.7->nbconvert<8.0.0,>=7.11.0->pipreqs) (25.1.0)\n",
      "Requirement already satisfied: jsonschema-specifications>=2023.03.6 in c:\\users\\manzar\\appdata\\local\\programs\\python\\python311\\lib\\site-packages (from jsonschema>=2.6->nbformat>=5.7->nbconvert<8.0.0,>=7.11.0->pipreqs) (2024.10.1)\n",
      "Requirement already satisfied: referencing>=0.28.4 in c:\\users\\manzar\\appdata\\local\\programs\\python\\python311\\lib\\site-packages (from jsonschema>=2.6->nbformat>=5.7->nbconvert<8.0.0,>=7.11.0->pipreqs) (0.36.2)\n",
      "Requirement already satisfied: rpds-py>=0.7.1 in c:\\users\\manzar\\appdata\\roaming\\python\\python311\\site-packages (from jsonschema>=2.6->nbformat>=5.7->nbconvert<8.0.0,>=7.11.0->pipreqs) (0.20.0)\n",
      "Requirement already satisfied: python-dateutil>=2.8.2 in c:\\users\\manzar\\appdata\\local\\programs\\python\\python311\\lib\\site-packages (from jupyter-client>=6.1.12->nbclient>=0.5.0->nbconvert<8.0.0,>=7.11.0->pipreqs) (2.9.0.post0)\n",
      "Requirement already satisfied: pyzmq>=23.0 in c:\\users\\manzar\\appdata\\roaming\\python\\python311\\site-packages (from jupyter-client>=6.1.12->nbclient>=0.5.0->nbconvert<8.0.0,>=7.11.0->pipreqs) (24.0.1)\n",
      "Requirement already satisfied: tornado>=6.2 in c:\\users\\manzar\\appdata\\roaming\\python\\python311\\site-packages (from jupyter-client>=6.1.12->nbclient>=0.5.0->nbconvert<8.0.0,>=7.11.0->pipreqs) (6.4)\n",
      "Building wheels for collected packages: docopt\n",
      "  Building wheel for docopt (setup.py): started\n",
      "  Building wheel for docopt (setup.py): finished with status 'done'\n",
      "  Created wheel for docopt: filename=docopt-0.6.2-py2.py3-none-any.whl size=13773 sha256=c2fe33eedc6014df25af7ba517465445be7dcdad735be57428bba1dd451af35e\n",
      "  Stored in directory: c:\\users\\manzar\\appdata\\local\\pip\\cache\\wheels\\76\\25\\ee\\b12ae221ba5f661381528ff30a6a7aff04994a3580398407f3\n",
      "Successfully built docopt\n",
      "Installing collected packages: pickleshare, docopt, backcall, pandocfilters, mistune, jupyterlab-pygments, defusedxml, bleach, yarg, ipython, nbclient, nbconvert, pipreqs\n",
      "  Attempting uninstall: ipython\n",
      "    Found existing installation: ipython 8.25.0\n",
      "    Uninstalling ipython-8.25.0:\n",
      "      Successfully uninstalled ipython-8.25.0\n",
      "Successfully installed backcall-0.2.0 bleach-6.2.0 defusedxml-0.7.1 docopt-0.6.2 ipython-8.12.3 jupyterlab-pygments-0.3.0 mistune-3.1.3 nbclient-0.10.2 nbconvert-7.16.6 pandocfilters-1.5.1 pickleshare-0.7.5 pipreqs-0.5.0 yarg-0.1.9\n",
      "Note: you may need to restart the kernel to use updated packages.\n"
     ]
    },
    {
     "name": "stderr",
     "output_type": "stream",
     "text": [
      "\n",
      "[notice] A new release of pip available: 22.3 -> 25.2\n",
      "[notice] To update, run: python.exe -m pip install --upgrade pip\n"
     ]
    }
   ],
   "source": [
    "pip install pipreqs\n"
   ]
  },
  {
   "cell_type": "code",
   "execution_count": 1,
   "id": "e1e92ff9",
   "metadata": {},
   "outputs": [
    {
     "name": "stdout",
     "output_type": "stream",
     "text": [
      "Found 331 unused libraries. Saved to unused_libraries.txt\n"
     ]
    }
   ],
   "source": [
    "# Step 2: Compare used vs installed\n",
    "used = set()\n",
    "with open('requirements.txt', 'r') as f:\n",
    "    for line in f:\n",
    "        lib = line.strip().split('==')[0]\n",
    "        used.add(lib.lower())\n",
    "\n",
    "unused = []\n",
    "with open('all_installed.txt', 'r') as f:\n",
    "    for line in f:\n",
    "        lib = line.strip().split('==')[0]\n",
    "        if lib.lower() not in used:\n",
    "            unused.append(lib)\n",
    "\n",
    "# Save unused libraries to file\n",
    "with open('unused_libraries.txt', 'w') as f:\n",
    "    for lib in unused:\n",
    "        f.write(lib + '\\n')\n",
    "\n",
    "print(f\"Found {len(unused)} unused libraries. Saved to unused_libraries.txt\")\n"
   ]
  },
  {
   "cell_type": "code",
   "execution_count": 2,
   "id": "cab68c63",
   "metadata": {},
   "outputs": [
    {
     "name": "stdout",
     "output_type": "stream",
     "text": [
      "Note: you may need to restart the kernel to use updated packages.\n"
     ]
    },
    {
     "name": "stderr",
     "output_type": "stream",
     "text": [
      "ERROR: Invalid requirement: '\\u0a0d' (from line 166 of unused_libraries.txt)\n"
     ]
    }
   ],
   "source": [
    "pip uninstall -y -r unused_libraries.txt\n"
   ]
  },
  {
   "cell_type": "code",
   "execution_count": 5,
   "id": "7e224ade",
   "metadata": {},
   "outputs": [
    {
     "name": "stdout",
     "output_type": "stream",
     "text": [
      "✅ Clean file ready: unused_libraries_clean.txt\n"
     ]
    }
   ],
   "source": [
    "# Safely write only valid, ASCII library names\n",
    "import re\n",
    "\n",
    "cleaned = []\n",
    "\n",
    "with open('unused_libraries.txt', 'r', encoding='utf-8', errors='ignore') as f:\n",
    "    for line in f:\n",
    "        lib = line.strip()\n",
    "\n",
    "        # Only include lines that look like valid pip packages\n",
    "        if re.match(r'^[a-zA-Z0-9_\\-]+$', lib):\n",
    "            cleaned.append(lib)\n",
    "\n",
    "# Write to file without null characters\n",
    "with open('unused_libraries_clean.txt', 'w', encoding='utf-8') as f:\n",
    "    for lib in cleaned:\n",
    "        f.write(lib + '\\n')\n",
    "\n",
    "print(\"✅ Clean file ready: unused_libraries_clean.txt\")\n"
   ]
  },
  {
   "cell_type": "code",
   "execution_count": 11,
   "id": "d83b5b90",
   "metadata": {},
   "outputs": [
    {
     "name": "stdout",
     "output_type": "stream",
     "text": [
      "Note: you may need to restart the kernel to use updated packages.\n"
     ]
    },
    {
     "name": "stderr",
     "output_type": "stream",
     "text": [
      "ERROR: You must give at least one requirement to uninstall (see \"pip help uninstall\")\n"
     ]
    }
   ],
   "source": [
    "pip uninstall -y -r unused_libraries_clean.txt\n"
   ]
  },
  {
   "cell_type": "code",
   "execution_count": 8,
   "id": "fb91b88c",
   "metadata": {},
   "outputs": [
    {
     "name": "stdout",
     "output_type": "stream",
     "text": [
      "\n",
      "Usage:   \n",
      "  c:\\Users\\Manzar\\AppData\\Local\\Programs\\Python\\Python311\\python.exe -m pip uninstall [options] <package> ...\n",
      "  c:\\Users\\Manzar\\AppData\\Local\\Programs\\Python\\Python311\\python.exe -m pip uninstall [options] -r <requirements file> ...\n",
      "\n",
      "Description:\n",
      "  Uninstall packages.\n",
      "  \n",
      "  pip is able to uninstall most installed packages. Known exceptions are:\n",
      "  \n",
      "  - Pure distutils packages installed with ``python setup.py install``, which\n",
      "    leave behind no metadata to determine what files were installed.\n",
      "  - Script wrappers installed by ``python setup.py develop``.\n",
      "\n",
      "Uninstall Options:\n",
      "  -r, --requirement <file>    Uninstall all the packages listed in the given\n",
      "                              requirements file.  This option can be used\n",
      "                              multiple times.\n",
      "  -y, --yes                   Don't ask for confirmation of uninstall\n",
      "                              deletions.\n",
      "  --root-user-action <root_user_action>\n",
      "                              Action if pip is run as a root user. By default,\n",
      "                              a warning message is shown.\n",
      "\n",
      "General Options:\n",
      "  -h, --help                  Show help.\n",
      "  --debug                     Let unhandled exceptions propagate outside the\n",
      "                              main subroutine, instead of logging them to\n",
      "                              stderr.\n",
      "  --isolated                  Run pip in an isolated mode, ignoring\n",
      "                              environment variables and user configuration.\n",
      "  --require-virtualenv        Allow pip to only run in a virtual environment;\n",
      "                              exit with an error otherwise.\n",
      "  --python <python>           Run pip with the specified Python interpreter.\n",
      "  -v, --verbose               Give more output. Option is additive, and can be\n",
      "                              used up to 3 times.\n",
      "  -V, --version               Show version and exit.\n",
      "  -q, --quiet                 Give less output. Option is additive, and can be\n",
      "                              used up to 3 times (corresponding to WARNING,\n",
      "                              ERROR, and CRITICAL logging levels).\n",
      "  --log <path>                Path to a verbose appending log.\n",
      "  --no-input                  Disable prompting for input.\n",
      "  --proxy <proxy>             Specify a proxy in the form\n",
      "                              scheme://[user:passwd@]proxy.server:port.\n",
      "  --retries <retries>         Maximum number of retries each connection should\n",
      "                              attempt (default 5 times).\n",
      "  --timeout <sec>             Set the socket timeout (default 15 seconds).\n",
      "  --exists-action <action>    Default action when a path already exists:\n",
      "                              (s)witch, (i)gnore, (w)ipe, (b)ackup, (a)bort.\n",
      "  --trusted-host <hostname>   Mark this host or host:port pair as trusted,\n",
      "                              even though it does not have valid or any HTTPS.\n",
      "  --cert <path>               Path to PEM-encoded CA certificate bundle. If\n",
      "                              provided, overrides the default. See 'SSL\n",
      "                              Certificate Verification' in pip documentation\n",
      "                              for more information.\n",
      "  --client-cert <path>        Path to SSL client certificate, a single file\n",
      "                              containing the private key and the certificate\n",
      "                              in PEM format.\n",
      "  --cache-dir <dir>           Store the cache data in <dir>.\n",
      "  --no-cache-dir              Disable the cache.\n",
      "  --disable-pip-version-check\n",
      "                              Don't periodically check PyPI to determine\n",
      "                              whether a new version of pip is available for\n",
      "                              download. Implied with --no-index.\n",
      "  --no-color                  Suppress colored output.\n",
      "  --no-python-version-warning\n",
      "                              Silence deprecation warnings for upcoming\n",
      "                              unsupported Pythons.\n",
      "  --use-feature <feature>     Enable new functionality, that may be backward\n",
      "                              incompatible.\n",
      "  --use-deprecated <feature>  Enable deprecated functionality, that will be\n",
      "                              removed in the future.\n",
      "Note: you may need to restart the kernel to use updated packages.\n"
     ]
    }
   ],
   "source": [
    "pip help uninstall"
   ]
  },
  {
   "cell_type": "code",
   "execution_count": null,
   "id": "b57f6cd2",
   "metadata": {},
   "outputs": [],
   "source": []
  }
 ],
 "metadata": {
  "kernelspec": {
   "display_name": "Python 3",
   "language": "python",
   "name": "python3"
  },
  "language_info": {
   "codemirror_mode": {
    "name": "ipython",
    "version": 3
   },
   "file_extension": ".py",
   "mimetype": "text/x-python",
   "name": "python",
   "nbconvert_exporter": "python",
   "pygments_lexer": "ipython3",
   "version": "3.11.0"
  }
 },
 "nbformat": 4,
 "nbformat_minor": 5
}
